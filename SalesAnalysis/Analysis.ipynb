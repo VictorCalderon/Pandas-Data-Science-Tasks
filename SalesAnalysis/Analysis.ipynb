{
 "nbformat": 4,
 "nbformat_minor": 2,
 "metadata": {
  "language_info": {
   "name": "python",
   "codemirror_mode": {
    "name": "ipython",
    "version": 3
   },
   "version": "3.7.6-final"
  },
  "orig_nbformat": 2,
  "file_extension": ".py",
  "mimetype": "text/x-python",
  "name": "python",
  "npconvert_exporter": "python",
  "pygments_lexer": "ipython3",
  "version": 3,
  "kernelspec": {
   "name": "python37664bitdataanalysisconda32e23fd5c98042a992b3e6cf63f494e4",
   "display_name": "Python 3.7.6 64-bit ('DataAnalysis': conda)"
  }
 },
 "cells": [
  {
   "cell_type": "code",
   "execution_count": null,
   "metadata": {},
   "outputs": [],
   "source": [
    "import pandas as pd\n",
    "import numpy as np\n",
    "import seaborn as sns\n",
    "import matplotlib.pyplot as plt\n",
    "import glob\n",
    "\n",
    "import networkx as nx\n",
    "import nxviz"
   ]
  },
  {
   "cell_type": "code",
   "execution_count": null,
   "metadata": {},
   "outputs": [],
   "source": [
    "# Merge data into a single file\n",
    "directory = 'Sales_Data/*'\n",
    "dfs = [pd.read_csv(filename) for filename in glob.glob(directory)]\n",
    "df = pd.concat(dfs)\n",
    "df.to_csv('sales_data.csv', index=False)"
   ]
  },
  {
   "cell_type": "code",
   "execution_count": null,
   "metadata": {},
   "outputs": [],
   "source": [
    "# Read new single file\n",
    "df = pd.read_csv('sales_data.csv')\n",
    "df.head()"
   ]
  },
  {
   "cell_type": "code",
   "execution_count": null,
   "metadata": {},
   "outputs": [],
   "source": [
    "# Drop N/A rows\n",
    "df.dropna(inplace=True)"
   ]
  },
  {
   "cell_type": "code",
   "execution_count": null,
   "metadata": {},
   "outputs": [],
   "source": [
    "# Remove column names as rows\n",
    "df = df[df['Order ID'] != 'Order ID']"
   ]
  },
  {
   "cell_type": "code",
   "execution_count": null,
   "metadata": {},
   "outputs": [],
   "source": [
    "# Separate last column into columns: 'Address', 'State', 'City'\n",
    "addresses = np.array([address.split(', ') for address in df['Purchase Address'].values])\n",
    "df['Street'], df['City'], df['State'] = addresses[:, 0], addresses[:, 1], [x[:2] for x in addresses[:, 2]]\n",
    "df.drop(['Purchase Address', 'Street'], axis='columns', inplace=True)"
   ]
  },
  {
   "cell_type": "code",
   "execution_count": null,
   "metadata": {},
   "outputs": [],
   "source": [
    "# Add total price column\n",
    "df['Order Price'] = pd.to_numeric(df['Quantity Ordered']) * pd.to_numeric(df['Price Each'])"
   ]
  },
  {
   "cell_type": "code",
   "execution_count": null,
   "metadata": {},
   "outputs": [],
   "source": [
    "df.to_csv('clean_data.csv', index=False)"
   ]
  },
  {
   "cell_type": "code",
   "execution_count": null,
   "metadata": {},
   "outputs": [],
   "source": [
    "# Add column data types int and float\n",
    "dtypes = ['object', 'object', 'int', 'float', 'object', 'category', 'category', 'float']\n",
    "col_types = dict(zip(df.columns, dtypes))\n",
    "df = df.astype(col_types)\n",
    "\n",
    "# Add column type datetime and set as index\n",
    "df['Order Date'] = pd.to_datetime(df['Order Date'])"
   ]
  },
  {
   "cell_type": "code",
   "execution_count": null,
   "metadata": {},
   "outputs": [],
   "source": [
    "# Column data types and DataFrame Info\n",
    "df.info()"
   ]
  },
  {
   "cell_type": "code",
   "execution_count": null,
   "metadata": {},
   "outputs": [],
   "source": [
    "df.head(10)"
   ]
  },
  {
   "cell_type": "code",
   "execution_count": null,
   "metadata": {},
   "outputs": [],
   "source": [
    "# What was the best month for sales?\n",
    "sales_per_month = df.set_index('Order Date')\n",
    "sales_per_month = sales_per_month[['Order Price']].resample('M').sum()\n",
    "sales_per_month.plot()\n",
    "\n",
    "\n",
    "# Answer\n",
    "# December was the best month for sales."
   ]
  },
  {
   "cell_type": "code",
   "execution_count": null,
   "metadata": {},
   "outputs": [],
   "source": [
    "# Which city sold the most products?\n",
    "city_count = df.groupby('City').sum()\n",
    "city_count.sort_values('Quantity Ordered', ascending=False, inplace=True)\n",
    "city_count.reset_index(inplace=True)\n",
    "sns.barplot(x='City', y='Quantity Ordered', data=city_count, order=city_count['City'], palette='spring')\n",
    "plt.xticks(rotation=45)\n",
    "plt.show()\n",
    "# Answer\n",
    "# San Francisco sells the most products."
   ]
  },
  {
   "cell_type": "code",
   "execution_count": null,
   "metadata": {},
   "outputs": [],
   "source": [
    "# What time should we display advertisements to maximize the likelihood of purchases?\n",
    "times = pd.to_datetime(df['Order Date'])\n",
    "times = pd.DataFrame(times.groupby(times.dt.hour).count())\n",
    "times.index.name, times.columns = 'Hour', ['Purchases']\n",
    "sns.barplot(x=times.index, y=times['Purchases'], palette='spring')\n",
    "\n",
    "# Answer:\n",
    "# Data suggests most purchases occur at 12:00 and 19:00 hours. "
   ]
  },
  {
   "cell_type": "code",
   "execution_count": null,
   "metadata": {},
   "outputs": [],
   "source": [
    "# What products are most often sold together?\n",
    "sold_together = df[['Order ID', 'Product']]\n",
    "dummified = pd.get_dummies(sold_together, columns=sold_together.columns[1:], prefix='', prefix_sep='').reset_index(drop=True)\n",
    "sold_together = dummified.groupby('Order ID').sum()\n",
    "sold_together = sold_together[sold_together.sum(axis='columns') > 1]\n",
    "\n",
    "# Figure configuration HeatMap\n",
    "fig, ax = plt.subplots(figsize=(6, 5))\n",
    "sales_corr = sold_together.corr()\n",
    "sns.heatmap(sales_corr, cmap='Greens', vmin=-0.25, vmax=0.4)\n",
    "bottom, top = ax.get_ylim()\n",
    "ax.set_ylim(bottom + 0.5, top - 0.5)\n",
    "plt.tight_layout()\n",
    "\n",
    "# Answer\n",
    "# (Google Phone + USB-C Charging Cables + Wireless Headphones) & (iPhone + Lightning Charging Cable + Apple Airpods)"
   ]
  },
  {
   "cell_type": "code",
   "execution_count": null,
   "metadata": {},
   "outputs": [],
   "source": [
    "# What prodcuts are sold the most using graphs with NetworkX\n",
    "from draw_graph import create_corr_network\n",
    "\n",
    "# Fill diagonal with 0 and create adjacency matrix\n",
    "np.fill_diagonal(sales_corr.values, 0)\n",
    "sales_matrix = np.asmatrix(sales_corr)\n",
    "\n",
    "# Get metadata of each node\n",
    "products = sales_corr.columns\n",
    "prices = df.groupby('Product')['Price Each'].mean()\n",
    "\n",
    "# Instanciate graph and label nodes\n",
    "G = nx.from_numpy_matrix(sales_matrix)\n",
    "G = nx.relabel_nodes(G, lambda x: products[x])\n",
    "\n",
    "# Plot Graph\n",
    "create_corr_network(G)"
   ]
  },
  {
   "cell_type": "code",
   "execution_count": null,
   "metadata": {},
   "outputs": [],
   "source": [
    "# What product sold the most?\n",
    "most_sold = df.groupby('Product')[['Quantity Ordered']].sum()\n",
    "most_sold.sort_values('Quantity Ordered', ascending=False, inplace=True)\n",
    "most_sold = most_sold.head(6)\n",
    "\n",
    "sns.barplot(x=most_sold.index, y=most_sold['Quantity Ordered'], palette='spring')\n",
    "plt.xticks(rotation=90)\n",
    "plt.show()"
   ]
  },
  {
   "cell_type": "code",
   "execution_count": null,
   "metadata": {},
   "outputs": [],
   "source": [
    "def create_corr_network(G):\n",
    "    # Create a list of edges and weights\n",
    "    edges, weights = zip(*nx.get_edge_attributes(G,'weight').items())\n",
    "\n",
    "    # Positions in the vizualization\n",
    "    positions = nx.circular_layout(G)\n",
    "\n",
    "    # Figure configuration\n",
    "    plt.figure(figsize=(15, 15))\n",
    "\n",
    "    # Draw nodes\n",
    "    nx.draw_networkx_nodes(G, positions, node_color='#DA70D6', node_size=500, alpha=0.8)\n",
    "\n",
    "    # Styling for labels\n",
    "    nx.draw_networkx_labels(G, positions, font_size=8, font_family='sans-serif')\n",
    "\n",
    "    # Draws the edges\n",
    "    nx.draw_networkx_edges(G, positions, edge_list=edges, style='solid')\n",
    "\n",
    "    # Displays the graph without axis\n",
    "    plt.axis('off')\n",
    "\n",
    "    # Saves image\n",
    "    plt.savefig(\"graph1.png\", format=\"PNG\", dpi=320)\n",
    "\n",
    "    # Show Image\n",
    "    plt.show() \n",
    "    \n",
    "    return 0"
   ]
  },
  {
   "cell_type": "code",
   "execution_count": null,
   "metadata": {},
   "outputs": [],
   "source": [
    "from draw_graph import create_corr_network\n",
    "\n",
    "create_corr_network(G)"
   ]
  },
  {
   "cell_type": "code",
   "execution_count": null,
   "metadata": {},
   "outputs": [],
   "source": []
  }
 ]
}